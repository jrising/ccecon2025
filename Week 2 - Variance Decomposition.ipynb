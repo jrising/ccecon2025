{
 "cells": [
  {
   "cell_type": "code",
   "execution_count": null,
   "id": "766af9d9",
   "metadata": {},
   "outputs": [],
   "source": [
    "df = read.csv(\"fairdraws.csv\")"
   ]
  },
  {
   "cell_type": "code",
   "execution_count": null,
   "id": "678028d6",
   "metadata": {},
   "outputs": [],
   "source": [
    "head(df)"
   ]
  },
  {
   "cell_type": "markdown",
   "id": "04feb0b8",
   "metadata": {},
   "source": [
    "Q: How hot will it be in 2050?"
   ]
  },
  {
   "cell_type": "markdown",
   "id": "94697896",
   "metadata": {},
   "source": [
    "Q: What's the 90th quantile of how hot it might be in 2050?"
   ]
  },
  {
   "cell_type": "code",
   "execution_count": null,
   "id": "b1b1bdfc",
   "metadata": {},
   "outputs": [],
   "source": [
    "df2 = subset(df, year == 2050 & run_id < 100)"
   ]
  },
  {
   "cell_type": "code",
   "execution_count": null,
   "id": "82e79fdd",
   "metadata": {},
   "outputs": [],
   "source": [
    "plot(hist(df2$value))"
   ]
  },
  {
   "cell_type": "code",
   "execution_count": null,
   "id": "5209c49c",
   "metadata": {},
   "outputs": [],
   "source": [
    "mod = lm(value ~ scenario + factor(run_id), data=df2)"
   ]
  },
  {
   "cell_type": "code",
   "execution_count": null,
   "id": "a42f7db0",
   "metadata": {},
   "outputs": [],
   "source": [
    "summary(mod)"
   ]
  },
  {
   "cell_type": "code",
   "execution_count": null,
   "id": "3704bdea",
   "metadata": {},
   "outputs": [],
   "source": [
    "anova(mod)"
   ]
  },
  {
   "cell_type": "code",
   "execution_count": null,
   "id": "a4f7ee40",
   "metadata": {},
   "outputs": [],
   "source": [
    "anv = anova(lm(value ~ scenario + factor(run_id), data=df2))\n",
    "anv[, 2] / sum(anv[, 2])"
   ]
  },
  {
   "cell_type": "code",
   "execution_count": null,
   "id": "2985fd8b",
   "metadata": {},
   "outputs": [],
   "source": [
    "vardf = data.frame()\n",
    "for (yy in 2001:2100) {\n",
    "    df2 = subset(df, year == yy & run_id < 100)\n",
    "    anv = anova(lm(value ~ scenario + factor(run_id), data=df2))\n",
    "    values = anv[, 2] / sum(anv[, 2])\n",
    "    vardf = rbind(vardf, data.frame(year=yy, scenario=values[1], ecs=values[2], resid=values[3]))\n",
    "}"
   ]
  },
  {
   "cell_type": "code",
   "execution_count": null,
   "id": "27f7a226",
   "metadata": {},
   "outputs": [],
   "source": [
    "plot(vardf$year, vardf$scenario)"
   ]
  },
  {
   "cell_type": "code",
   "execution_count": null,
   "id": "c9abf1f6",
   "metadata": {},
   "outputs": [],
   "source": [
    "plot(vardf$year, vardf$ecs)"
   ]
  }
 ],
 "metadata": {
  "kernelspec": {
   "display_name": "R",
   "language": "R",
   "name": "ir"
  },
  "language_info": {
   "codemirror_mode": "r",
   "file_extension": ".r",
   "mimetype": "text/x-r-source",
   "name": "R",
   "pygments_lexer": "r",
   "version": "4.4.2"
  }
 },
 "nbformat": 4,
 "nbformat_minor": 5
}
