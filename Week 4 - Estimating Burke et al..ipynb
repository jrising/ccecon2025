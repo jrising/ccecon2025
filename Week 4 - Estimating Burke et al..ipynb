{
 "cells": [
  {
   "cell_type": "code",
   "execution_count": null,
   "id": "eb478927",
   "metadata": {},
   "outputs": [],
   "source": [
    "df = read.csv(\"GrowthClimateDataset.csv\")"
   ]
  },
  {
   "cell_type": "code",
   "execution_count": null,
   "id": "f1ab97e3",
   "metadata": {},
   "outputs": [],
   "source": [
    "library(lfe)"
   ]
  },
  {
   "cell_type": "code",
   "execution_count": null,
   "id": "35ccc25e",
   "metadata": {},
   "outputs": [],
   "source": [
    "df$UDel_temp_popweight2 = df$UDel_temp_popweight^2\n",
    "df$UDel_precip_popweight2 = df$UDel_precip_popweight^2\n",
    "df$year = as.numeric(df$year)\n",
    "df$year2 = df$year^2"
   ]
  },
  {
   "cell_type": "code",
   "execution_count": null,
   "id": "a43e2ab9",
   "metadata": {},
   "outputs": [],
   "source": [
    "mod = felm(growthWDI ~ UDel_temp_popweight + UDel_temp_popweight2 + UDel_precip_popweight + UDel_precip_popweight2 + factor(iso):year + factor(iso):year2| iso + factor(year), data=df)"
   ]
  },
  {
   "cell_type": "code",
   "execution_count": null,
   "id": "01839ebb",
   "metadata": {},
   "outputs": [],
   "source": [
    "summary(mod)"
   ]
  },
  {
   "cell_type": "code",
   "execution_count": null,
   "id": "dd082959",
   "metadata": {},
   "outputs": [],
   "source": [
    "temp = seq(0, 30, by=.1)\n",
    "yy = mod$coeff[1] * temp + mod$coeff[2] * temp^2"
   ]
  },
  {
   "cell_type": "code",
   "execution_count": null,
   "id": "4815f0d5",
   "metadata": {},
   "outputs": [],
   "source": [
    "library(ggplot2)\n",
    "ggplot(data.frame(temp, yy), aes(temp, yy)) + geom_line()"
   ]
  }
 ],
 "metadata": {
  "kernelspec": {
   "display_name": "R",
   "language": "R",
   "name": "ir"
  },
  "language_info": {
   "codemirror_mode": "r",
   "file_extension": ".r",
   "mimetype": "text/x-r-source",
   "name": "R",
   "pygments_lexer": "r",
   "version": "4.4.2"
  }
 },
 "nbformat": 4,
 "nbformat_minor": 5
}
