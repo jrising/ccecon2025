{
 "cells": [
  {
   "cell_type": "markdown",
   "metadata": {},
   "source": [
    "## An equation"
   ]
  },
  {
   "cell_type": "markdown",
   "metadata": {},
   "source": [
    "**How would you calculate isoelastic utility, if you know consumption?**\n",
    "\n",
    "Version 1: $$u(c) = \\frac{c^{1 - \\eta}}{1 - \\eta}$$\n",
    "\n",
    "Version 2: $$u(c) = \\begin{cases} \\frac{c^{1 - \\eta}}{1 - \\eta} & \\text{if $\\eta \\ne 1$} \\\\ \\ln(c) & \\text{if $\\eta = 1$} \\end{cases} $$\n",
    "\n",
    "Let $$\\eta = 1.45, c = 10000$$"
   ]
  },
  {
   "cell_type": "markdown",
   "metadata": {},
   "source": [
    "## Some more equations"
   ]
  },
  {
   "cell_type": "markdown",
   "metadata": {},
   "source": [
    "**Calculate the radiative forcing from CO2**\n",
    "\n",
    "$$F = R \\frac{1}{\\log{2}} \\log{\\left(\\frac{C_1}{C_0}\\right)}$$\n",
    "\n",
    " - R is the (additional) forcing from CO2 twice pre-industrial levels, at equilibrium (3.8 W m-2).\n",
    " - C_0 is the concentration of CO2 at pre-industrial levels (280 ppm)\n",
    " - C_1 is the new concentration of CO2."
   ]
  },
  {
   "cell_type": "code",
   "execution_count": null,
   "metadata": {},
   "outputs": [],
   "source": [
    "df = read.csv(\"monthly_flask_co2_mlo.csv\")"
   ]
  },
  {
   "cell_type": "code",
   "execution_count": null,
   "metadata": {
    "scrolled": false
   },
   "outputs": [],
   "source": [
    "head(df)"
   ]
  },
  {
   "cell_type": "code",
   "execution_count": null,
   "metadata": {},
   "outputs": [],
   "source": [
    "yearly = df[df$Month == 1,]"
   ]
  },
  {
   "cell_type": "code",
   "execution_count": null,
   "metadata": {},
   "outputs": [],
   "source": [
    "head(yearly)"
   ]
  },
  {
   "cell_type": "code",
   "execution_count": null,
   "metadata": {},
   "outputs": [],
   "source": [
    "ff = (3.8 / log(2)) * log(yearly$CO2.filled / 280)"
   ]
  },
  {
   "cell_type": "code",
   "execution_count": null,
   "metadata": {
    "scrolled": false
   },
   "outputs": [],
   "source": [
    "plot(yearly$Year, ff)"
   ]
  },
  {
   "cell_type": "markdown",
   "metadata": {},
   "source": [
    "**\"Rate equation\" for temperature change.**\n",
    "\n",
    "$$T_{t+1} = T_t + c \\left(F - \\frac{R}{ECS} T_t\\right)$$\n",
    "\n",
    "Let $$c = 0.098, ECS = 3, T_{1960} = 0.2$$"
   ]
  },
  {
   "cell_type": "markdown",
   "metadata": {},
   "source": [
    "**What if we now stop emissions?**"
   ]
  }
 ],
 "metadata": {
  "kernelspec": {
   "display_name": "R",
   "language": "R",
   "name": "ir"
  },
  "language_info": {
   "codemirror_mode": "r",
   "file_extension": ".r",
   "mimetype": "text/x-r-source",
   "name": "R",
   "pygments_lexer": "r",
   "version": "4.4.2"
  }
 },
 "nbformat": 4,
 "nbformat_minor": 4
}
