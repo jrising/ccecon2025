{
 "cells": [
  {
   "cell_type": "markdown",
   "metadata": {},
   "source": [
    "## An equation"
   ]
  },
  {
   "cell_type": "markdown",
   "metadata": {},
   "source": [
    "**How would you calculate isoelastic utility, if you know consumption?**\n",
    "\n",
    "Version 1: $$u(c) = \\frac{c^{1 - \\eta}}{1 - \\eta}$$\n",
    "\n",
    "Version 2: $$u(c) = \\begin{cases} \\frac{c^{1 - \\eta}}{1 - \\eta} & \\text{if $\\eta \\ne 1$} \\\\ \\ln(c) & \\text{if $\\eta = 1$} \\end{cases} $$\n",
    "\n",
    "Let $$\\eta = 1.45, c = 10000$$"
   ]
  },
  {
   "cell_type": "code",
   "execution_count": 8,
   "metadata": {},
   "outputs": [],
   "source": [
    "eta = 1.45\n",
    "cc = 10000"
   ]
  },
  {
   "cell_type": "code",
   "execution_count": 9,
   "metadata": {},
   "outputs": [],
   "source": [
    "uu = (cc^(1 - eta)) / (1 - eta)"
   ]
  },
  {
   "cell_type": "code",
   "execution_count": 10,
   "metadata": {},
   "outputs": [
    {
     "data": {
      "text/html": [
       "-0.0352198487213581"
      ],
      "text/latex": [
       "-0.0352198487213581"
      ],
      "text/markdown": [
       "-0.0352198487213581"
      ],
      "text/plain": [
       "[1] -0.03521985"
      ]
     },
     "metadata": {},
     "output_type": "display_data"
    }
   ],
   "source": [
    "uu"
   ]
  },
  {
   "cell_type": "code",
   "execution_count": 15,
   "metadata": {},
   "outputs": [],
   "source": [
    "uumean = uu"
   ]
  },
  {
   "cell_type": "code",
   "execution_count": 16,
   "metadata": {},
   "outputs": [
    {
     "data": {
      "text/html": [
       "10000"
      ],
      "text/latex": [
       "10000"
      ],
      "text/markdown": [
       "10000"
      ],
      "text/plain": [
       "[1] 10000"
      ]
     },
     "metadata": {},
     "output_type": "display_data"
    }
   ],
   "source": [
    "(uumean * (1 - eta))^(1 / (1 - eta))"
   ]
  },
  {
   "cell_type": "code",
   "execution_count": 17,
   "metadata": {},
   "outputs": [],
   "source": [
    "cc = runif(1000, 0, 20000)"
   ]
  },
  {
   "cell_type": "code",
   "execution_count": 18,
   "metadata": {
    "scrolled": true
   },
   "outputs": [
    {
     "data": {
      "text/html": [
       "9875.49261935987"
      ],
      "text/latex": [
       "9875.49261935987"
      ],
      "text/markdown": [
       "9875.49261935987"
      ],
      "text/plain": [
       "[1] 9875.493"
      ]
     },
     "metadata": {},
     "output_type": "display_data"
    }
   ],
   "source": [
    "mean(cc)"
   ]
  },
  {
   "cell_type": "code",
   "execution_count": 19,
   "metadata": {},
   "outputs": [],
   "source": [
    "uu = (cc^(1 - eta)) / (1 - eta)"
   ]
  },
  {
   "cell_type": "code",
   "execution_count": 21,
   "metadata": {},
   "outputs": [],
   "source": [
    "uumean = mean(uu)"
   ]
  },
  {
   "cell_type": "code",
   "execution_count": 22,
   "metadata": {
    "scrolled": true
   },
   "outputs": [
    {
     "data": {
      "text/html": [
       "4953.0950337232"
      ],
      "text/latex": [
       "4953.0950337232"
      ],
      "text/markdown": [
       "4953.0950337232"
      ],
      "text/plain": [
       "[1] 4953.095"
      ]
     },
     "metadata": {},
     "output_type": "display_data"
    }
   ],
   "source": [
    "(uumean * (1 - eta))^(1 / (1 - eta))"
   ]
  },
  {
   "cell_type": "code",
   "execution_count": 25,
   "metadata": {},
   "outputs": [],
   "source": [
    "cc = c(10000, 20000)"
   ]
  },
  {
   "cell_type": "code",
   "execution_count": 26,
   "metadata": {},
   "outputs": [],
   "source": [
    "loss = 5000"
   ]
  },
  {
   "cell_type": "code",
   "execution_count": 27,
   "metadata": {},
   "outputs": [],
   "source": [
    "cc_after_loss = cc - loss"
   ]
  },
  {
   "cell_type": "code",
   "execution_count": 34,
   "metadata": {},
   "outputs": [],
   "source": [
    "uu = (cc^(1 - eta)) / (1 - eta)"
   ]
  },
  {
   "cell_type": "code",
   "execution_count": 33,
   "metadata": {},
   "outputs": [],
   "source": [
    "uu_after_loss = (cc_after_loss^(1 - eta)) / (1 - eta)"
   ]
  },
  {
   "cell_type": "code",
   "execution_count": 35,
   "metadata": {},
   "outputs": [
    {
     "data": {
      "text/html": [
       "<style>\n",
       ".list-inline {list-style: none; margin:0; padding: 0}\n",
       ".list-inline>li {display: inline-block}\n",
       ".list-inline>li:not(:last-child)::after {content: \"\\00b7\"; padding: 0 .5ex}\n",
       "</style>\n",
       "<ol class=list-inline><li>0.0128918824688169</li><li>0.0035633931436511</li></ol>\n"
      ],
      "text/latex": [
       "\\begin{enumerate*}\n",
       "\\item 0.0128918824688169\n",
       "\\item 0.0035633931436511\n",
       "\\end{enumerate*}\n"
      ],
      "text/markdown": [
       "1. 0.0128918824688169\n",
       "2. 0.0035633931436511\n",
       "\n",
       "\n"
      ],
      "text/plain": [
       "[1] 0.012891882 0.003563393"
      ]
     },
     "metadata": {},
     "output_type": "display_data"
    }
   ],
   "source": [
    "uu - uu_after_loss"
   ]
  },
  {
   "cell_type": "code",
   "execution_count": 31,
   "metadata": {},
   "outputs": [],
   "source": [
    "uumean = mean(uu)"
   ]
  },
  {
   "cell_type": "code",
   "execution_count": 32,
   "metadata": {},
   "outputs": [
    {
     "data": {
      "text/html": [
       "8097.32283780086"
      ],
      "text/latex": [
       "8097.32283780086"
      ],
      "text/markdown": [
       "8097.32283780086"
      ],
      "text/plain": [
       "[1] 8097.323"
      ]
     },
     "metadata": {},
     "output_type": "display_data"
    }
   ],
   "source": [
    "(uumean * (1 - eta))^(1 / (1 - eta))"
   ]
  },
  {
   "cell_type": "markdown",
   "metadata": {},
   "source": [
    "## Some more equations"
   ]
  },
  {
   "cell_type": "markdown",
   "metadata": {},
   "source": [
    "**Calculate the radiative forcing from CO2**\n",
    "\n",
    "$$F = R \\frac{1}{\\log{2}} \\log{\\left(\\frac{C_1}{C_0}\\right)}$$\n",
    "\n",
    " - R is the (additional) forcing from CO2 twice pre-industrial levels, at equilibrium (3.8 W m-2).\n",
    " - C_0 is the concentration of CO2 at pre-industrial levels (280 ppm)\n",
    " - C_1 is the new concentration of CO2."
   ]
  },
  {
   "cell_type": "markdown",
   "metadata": {},
   "source": [
    "**\"Rate equation\" for temperature change.**\n",
    "\n",
    "$$T_{t+1} = T_t + c \\left(F - \\frac{R}{ECS} T_t\\right)$$\n",
    "\n",
    "Let $$c = 0.098, ECS = 3, T_{1960} = 0.2$$"
   ]
  },
  {
   "cell_type": "markdown",
   "metadata": {},
   "source": [
    "**What if we now stop emissions?**"
   ]
  }
 ],
 "metadata": {
  "kernelspec": {
   "display_name": "R",
   "language": "R",
   "name": "ir"
  },
  "language_info": {
   "codemirror_mode": "r",
   "file_extension": ".r",
   "mimetype": "text/x-r-source",
   "name": "R",
   "pygments_lexer": "r",
   "version": "4.4.2"
  }
 },
 "nbformat": 4,
 "nbformat_minor": 4
}
