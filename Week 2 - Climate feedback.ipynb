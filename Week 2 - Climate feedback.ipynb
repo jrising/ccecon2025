{
 "cells": [
  {
   "cell_type": "markdown",
   "id": "1506f943",
   "metadata": {},
   "source": [
    "If there were no water vapor feedback, doubling CO2 would result in warming of about 1.2°C."
   ]
  },
  {
   "cell_type": "markdown",
   "id": "139bc794",
   "metadata": {},
   "source": [
    "Let's call that $$\\Delta T_0 = 1.2$$."
   ]
  },
  {
   "cell_type": "markdown",
   "id": "09eec34a",
   "metadata": {},
   "source": [
    "But that increase in temperature results extra warming, because of feedback: $$\\Delta T_1 = f \\Delta T_0$$"
   ]
  },
  {
   "cell_type": "markdown",
   "id": "9b50a23c",
   "metadata": {},
   "source": [
    "And this keeps going: $$\\Delta T_2 = f \\Delta T_1$$\n",
    "$$\\Delta T_3 = f \\Delta T_2$$\n",
    "$$\\cdots$$"
   ]
  },
  {
   "cell_type": "markdown",
   "id": "47e3cc27",
   "metadata": {},
   "source": [
    "A good estimate for $f = 0.65$. Let's try that out."
   ]
  },
  {
   "cell_type": "code",
   "execution_count": null,
   "id": "1b1c6f2d",
   "metadata": {},
   "outputs": [],
   "source": [
    "dT = 1.2\n",
    "for (tt in 2:100) {\n",
    "    dT[tt] = 0.65 * dT[length(dT)]\n",
    "}"
   ]
  },
  {
   "cell_type": "code",
   "execution_count": null,
   "id": "904003f1",
   "metadata": {},
   "outputs": [],
   "source": [
    "dT"
   ]
  },
  {
   "cell_type": "code",
   "execution_count": null,
   "id": "ecfc84e9",
   "metadata": {},
   "outputs": [],
   "source": [
    "plot(dT)"
   ]
  },
  {
   "cell_type": "code",
   "execution_count": null,
   "id": "66b91c70",
   "metadata": {},
   "outputs": [],
   "source": [
    "sum(dT)"
   ]
  },
  {
   "cell_type": "code",
   "execution_count": null,
   "id": "628e3c5e",
   "metadata": {},
   "outputs": [],
   "source": [
    "1.2 / (1 - 0.65)"
   ]
  },
  {
   "cell_type": "code",
   "execution_count": null,
   "id": "84e82d1b",
   "metadata": {},
   "outputs": [],
   "source": [
    "ff = rnorm(1000, .65, .13)"
   ]
  },
  {
   "cell_type": "code",
   "execution_count": null,
   "id": "bbe8361a",
   "metadata": {},
   "outputs": [],
   "source": [
    "hist(ff)"
   ]
  },
  {
   "cell_type": "markdown",
   "id": "e1cb9043",
   "metadata": {},
   "source": [
    "Q: How can we calculate a vector of possible dT values?"
   ]
  }
 ],
 "metadata": {
  "kernelspec": {
   "display_name": "R",
   "language": "R",
   "name": "ir"
  },
  "language_info": {
   "codemirror_mode": "r",
   "file_extension": ".r",
   "mimetype": "text/x-r-source",
   "name": "R",
   "pygments_lexer": "r",
   "version": "4.4.2"
  }
 },
 "nbformat": 4,
 "nbformat_minor": 5
}
