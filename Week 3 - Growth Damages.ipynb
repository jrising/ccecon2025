{
 "cells": [
  {
   "cell_type": "markdown",
   "id": "615ae307",
   "metadata": {},
   "source": [
    "Let's try out the damages from Burke et al. (2015)!"
   ]
  },
  {
   "cell_type": "code",
   "execution_count": null,
   "id": "b2de3c75",
   "metadata": {},
   "outputs": [],
   "source": [
    "beta <- c(0.0127183, -0.0004871)"
   ]
  },
  {
   "cell_type": "code",
   "execution_count": null,
   "id": "9d82c93d",
   "metadata": {},
   "outputs": [],
   "source": [
    "temp = seq(0, 30, by=.1)"
   ]
  },
  {
   "cell_type": "code",
   "execution_count": null,
   "id": "19615d19",
   "metadata": {},
   "outputs": [],
   "source": [
    "yy = beta[1] * temp + beta[2] * temp^2"
   ]
  },
  {
   "cell_type": "code",
   "execution_count": null,
   "id": "ab8c02ef",
   "metadata": {},
   "outputs": [],
   "source": [
    "df = data.frame(temp, yy)"
   ]
  },
  {
   "cell_type": "code",
   "execution_count": null,
   "id": "3100dda3",
   "metadata": {},
   "outputs": [],
   "source": [
    "library(ggplot2)"
   ]
  },
  {
   "cell_type": "code",
   "execution_count": null,
   "id": "f40932c5",
   "metadata": {},
   "outputs": [],
   "source": [
    "ggplot(df, aes(temp, yy)) + geom_line()"
   ]
  },
  {
   "cell_type": "markdown",
   "id": "15f3e30d",
   "metadata": {},
   "source": [
    "Now go to UNDP Climate Horizons:\n",
    "https://horizons.hdr.undp.org/\n",
    "\n",
    "Select the country, click on Country Insights, then change \"Emission Scenario\" to \"High (RCP 8.5)\" under Temperature.\n",
    "\n",
    "Collect the historical and end of century temperatures."
   ]
  },
  {
   "cell_type": "code",
   "execution_count": null,
   "id": "73dfbf3c",
   "metadata": {},
   "outputs": [],
   "source": [
    "temp0 = ...\n",
    "temp1 = ..."
   ]
  },
  {
   "cell_type": "code",
   "execution_count": null,
   "id": "afc93f8c",
   "metadata": {},
   "outputs": [],
   "source": [
    "beta[1] * (temp1 - temp0) + beta[2] * (temp1^2 - temp0^2)"
   ]
  },
  {
   "cell_type": "code",
   "execution_count": null,
   "id": "d52864a7",
   "metadata": {},
   "outputs": [],
   "source": [
    "df = data.frame(year=2000:2100, temp=seq(temp0, temp1, length.out=101))"
   ]
  },
  {
   "cell_type": "code",
   "execution_count": null,
   "id": "bc23a148",
   "metadata": {},
   "outputs": [],
   "source": [
    "df$growth = beta[1] * (df$temp - temp0) + beta[2] * (df$temp^2 - temp0^2)"
   ]
  },
  {
   "cell_type": "code",
   "execution_count": null,
   "id": "6066e7d6",
   "metadata": {},
   "outputs": [],
   "source": [
    "ggplot(df, aes(year, growth)) + geom_line()"
   ]
  },
  {
   "cell_type": "markdown",
   "id": "27e5b97a",
   "metadata": {},
   "source": [
    "Get the GDP per capita growth rate for your country from here:\n",
    "https://en.wikipedia.org/wiki/List_of_countries_by_real_GDP_per_capita_growth"
   ]
  },
  {
   "cell_type": "code",
   "execution_count": null,
   "id": "a7bbb787",
   "metadata": {},
   "outputs": [],
   "source": [
    "baseline = ..."
   ]
  },
  {
   "cell_type": "code",
   "execution_count": null,
   "id": "39017034",
   "metadata": {},
   "outputs": [],
   "source": [
    "df$total = exp(cumsum(baseline + df$growth))"
   ]
  },
  {
   "cell_type": "code",
   "execution_count": null,
   "id": "42513ec6",
   "metadata": {},
   "outputs": [],
   "source": [
    "ggplot(df, aes(year, total)) + geom_line()"
   ]
  },
  {
   "cell_type": "markdown",
   "id": "206616fc",
   "metadata": {},
   "source": [
    "Get the GDP per capita from here:\n",
    "https://en.wikipedia.org/wiki/List_of_countries_by_GDP_(PPP)_per_capita"
   ]
  },
  {
   "cell_type": "code",
   "execution_count": null,
   "id": "4ed579b7",
   "metadata": {},
   "outputs": [],
   "source": [
    "gdppc0 = ..."
   ]
  },
  {
   "cell_type": "code",
   "execution_count": null,
   "id": "27b7feba",
   "metadata": {},
   "outputs": [],
   "source": [
    "df$gdppc = df$total * gdppc0"
   ]
  },
  {
   "cell_type": "code",
   "execution_count": null,
   "id": "cd7bc76d",
   "metadata": {},
   "outputs": [],
   "source": [
    "ggplot(df, aes(year, gdppc)) + geom_line()"
   ]
  },
  {
   "cell_type": "code",
   "execution_count": null,
   "id": "cdcd9b86",
   "metadata": {},
   "outputs": [],
   "source": [
    "betavcv <- matrix(c(0.00001435,-0.0000003758,-3.758E-07,1.402E-08), 2, 2, byrow=T)"
   ]
  },
  {
   "cell_type": "code",
   "execution_count": null,
   "id": "286115f9",
   "metadata": {},
   "outputs": [],
   "source": [
    "library(MASS)\n",
    "coeffs <- mvrnorm(1000, mu=beta, Sigma=betavcv, empirical=T)"
   ]
  },
  {
   "cell_type": "code",
   "execution_count": null,
   "id": "7c6e37e1",
   "metadata": {},
   "outputs": [],
   "source": [
    "head(coeffs)"
   ]
  },
  {
   "cell_type": "code",
   "execution_count": null,
   "id": "be1bf891",
   "metadata": {},
   "outputs": [],
   "source": [
    "allmc = data.frame()\n",
    "for (ii in 1:1000) {\n",
    "    mc = data.frame(year=2000:2100, temp=seq(temp0, temp1, length.out=101))\n",
    "    mc$growth = coeffs[ii, 1] * (mc$temp - temp0) + coeffs[ii, 2] * (mc$temp^2 - temp0^2)\n",
    "    mc$total = exp(cumsum(baseline + mc$growth))\n",
    "    mc$gdppc = mc$total * gdppc0\n",
    "    allmc = rbind(allmc, mc)\n",
    "}"
   ]
  },
  {
   "cell_type": "code",
   "execution_count": null,
   "id": "b29a6b4c",
   "metadata": {},
   "outputs": [],
   "source": [
    "ggplot(subset(allmc, year == 2100), aes(gdppc)) + geom_density()"
   ]
  },
  {
   "cell_type": "code",
   "execution_count": null,
   "id": "08505771",
   "metadata": {},
   "outputs": [],
   "source": [
    "df$gdppc[df$year == 2100]"
   ]
  },
  {
   "cell_type": "code",
   "execution_count": null,
   "id": "acd4f079",
   "metadata": {
    "scrolled": false
   },
   "outputs": [],
   "source": [
    "ggplot(subset(allmc, year == 2100), aes(gdppc)) + geom_density() + geom_vline(xintercept=df$gdppc[df$year == 2100])"
   ]
  },
  {
   "cell_type": "code",
   "execution_count": null,
   "id": "75f9956d",
   "metadata": {},
   "outputs": [],
   "source": [
    "nocc = gdppc0 * exp(baseline * 101)"
   ]
  },
  {
   "cell_type": "code",
   "execution_count": null,
   "id": "fbceb16c",
   "metadata": {},
   "outputs": [],
   "source": [
    "ggplot(subset(allmc, year == 2100), aes(gdppc)) +\n",
    "  geom_density() + geom_vline(xintercept=df$gdppc[df$year == 2100]) +\n",
    "  geom_vline(xintercept=nocc)"
   ]
  },
  {
   "cell_type": "markdown",
   "id": "d4a98918",
   "metadata": {},
   "source": [
    "We want to implement the isoelastic utility function:"
   ]
  },
  {
   "cell_type": "markdown",
   "id": "961cb8af",
   "metadata": {},
   "source": [
    "Version 1: $$u(c) = \\frac{c^{1 - \\eta}}{1 - \\eta}$$\n",
    "\n",
    "Version 2: $$u(c) = \\begin{cases} \\frac{c^{1 - \\eta}}{1 - \\eta} & \\text{if $\\eta \\ne 1$} \\\\ \\ln(c) & \\text{if $\\eta = 1$} \\end{cases} $$\n",
    "\n",
    "Let $$\\eta = 1.45$$"
   ]
  },
  {
   "cell_type": "code",
   "execution_count": null,
   "id": "29802206",
   "metadata": {},
   "outputs": [],
   "source": [
    "eta = 1.45"
   ]
  },
  {
   "cell_type": "code",
   "execution_count": null,
   "id": "7612bb78",
   "metadata": {},
   "outputs": [],
   "source": [
    "util_of_mean = ..."
   ]
  },
  {
   "cell_type": "code",
   "execution_count": null,
   "id": "668f7af7",
   "metadata": {},
   "outputs": [],
   "source": [
    "(util_of_mean * (1 - 1.45))^(1 / (1 - 1.45))"
   ]
  },
  {
   "cell_type": "code",
   "execution_count": null,
   "id": "b999b7f1",
   "metadata": {},
   "outputs": [],
   "source": [
    "utils = ..."
   ]
  },
  {
   "cell_type": "code",
   "execution_count": null,
   "id": "be187973",
   "metadata": {},
   "outputs": [],
   "source": [
    "mean_of_util = mean(utils, na.rm=T)"
   ]
  },
  {
   "cell_type": "code",
   "execution_count": null,
   "id": "32f04c79",
   "metadata": {},
   "outputs": [],
   "source": [
    "(mean_of_util * (1 - 1.45))^(1 / (1 - 1.45))"
   ]
  },
  {
   "cell_type": "code",
   "execution_count": null,
   "id": "36edaa7d",
   "metadata": {},
   "outputs": [],
   "source": [
    "(mean_of_util * (1 - 1.45))^(1 / (1 - 1.45)) / nocc"
   ]
  }
 ],
 "metadata": {
  "kernelspec": {
   "display_name": "R",
   "language": "R",
   "name": "ir"
  },
  "language_info": {
   "codemirror_mode": "r",
   "file_extension": ".r",
   "mimetype": "text/x-r-source",
   "name": "R",
   "pygments_lexer": "r",
   "version": "4.4.2"
  }
 },
 "nbformat": 4,
 "nbformat_minor": 5
}
