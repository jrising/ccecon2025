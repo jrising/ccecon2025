{
 "cells": [
  {
   "cell_type": "markdown",
   "id": "8d2df084",
   "metadata": {},
   "source": [
    "# Goals\n",
    "\n",
    "We are going to build a simple CB-IAM, based on the SC-IAM we built in Lab 3.\n",
    "\n",
    "To do that, we need:\n",
    " - A model of emissions\n",
    " - Estimates of mitigation costs\n",
    " - An optimization step"
   ]
  },
  {
   "cell_type": "markdown",
   "id": "12928a04",
   "metadata": {},
   "source": [
    "# Get a new dataset\n",
    "\n",
    "The dataset comes from the ENGAGE project, an intermodel comparison of DP-IAMs:\n",
    "https://data.ene.iiasa.ac.at/engage/#/downloads\n",
    "\n",
    "The full dataset is 95 MB and includes 9 PB-IAMs and 182 scenarios:\n",
    "https://www.dropbox.com/s/u3drzbpl91r331z/ENGAGE_scenario_data_world_r2.0.csv?dl=0\n",
    "\n",
    "We are going to use two versions of this data: for baseline characteristics, we will use the \"no policy\" scenario of one DP-IAM called AIM/CGE which includes a computational general equilibrium model and a sophisticated energy system. For modeling mitigation, we will use all models and scenarios, but only a few output variables.\n",
    "\n",
    "Download the first file from\n",
    "https://www.dropbox.com/scl/fi/04y9nuz7jydwq8tbv9080/aimcge-np.csv?rlkey=wy965td792moq76kl1zr178u1&dl=0"
   ]
  },
  {
   "cell_type": "code",
   "execution_count": null,
   "id": "e797dd1d",
   "metadata": {},
   "outputs": [],
   "source": [
    "input = read.csv(...)"
   ]
  },
  {
   "cell_type": "code",
   "execution_count": null,
   "id": "24643a0d",
   "metadata": {},
   "outputs": [],
   "source": [
    "library(reshape2)"
   ]
  },
  {
   "cell_type": "code",
   "execution_count": null,
   "id": "600ac891",
   "metadata": {},
   "outputs": [],
   "source": [
    "input2 = melt(input, c('Model', 'Scenario', 'Region', 'Variable', 'Unit'))"
   ]
  },
  {
   "cell_type": "code",
   "execution_count": null,
   "id": "2b2d01ee",
   "metadata": {},
   "outputs": [],
   "source": [
    "input2 = subset(input2, !is.na(value))"
   ]
  },
  {
   "cell_type": "code",
   "execution_count": null,
   "id": "a728a492",
   "metadata": {},
   "outputs": [],
   "source": [
    "input2$year = as.numeric(substring(input2$variable, 2, 5))"
   ]
  },
  {
   "cell_type": "code",
   "execution_count": null,
   "id": "747e8eff",
   "metadata": {},
   "outputs": [],
   "source": [
    "temp = subset(input2, Variable == 'Diagnostics|MAGICC6|Temperature|Global Mean')"
   ]
  },
  {
   "cell_type": "code",
   "execution_count": null,
   "id": "a7b8f8b5",
   "metadata": {},
   "outputs": [],
   "source": [
    "plot(temp$year, temp$value, type='l')"
   ]
  },
  {
   "cell_type": "code",
   "execution_count": null,
   "id": "649b07f0",
   "metadata": {},
   "outputs": [],
   "source": [
    "library(ggplot2)\n",
    "ggplot(input2[grep(\"Primary Energy\\\\|\", input2$Variable),], aes(year, value, fill=Variable)) + geom_col()"
   ]
  },
  {
   "cell_type": "code",
   "execution_count": null,
   "id": "ef3b2e88",
   "metadata": {},
   "outputs": [],
   "source": [
    "ggplot(input2[grep(\"Primary Energy\\\\|[^|]+$\", input2$Variable),], aes(year, value, fill=Variable)) + geom_col()"
   ]
  },
  {
   "cell_type": "code",
   "execution_count": null,
   "id": "ae2ac2d1",
   "metadata": {
    "scrolled": true
   },
   "outputs": [],
   "source": [
    "ggplot(input2[grep(\"Final Energy\\\\|[^|]+$\", input2$Variable),], aes(year, value, fill=Variable)) + geom_col()"
   ]
  },
  {
   "cell_type": "code",
   "execution_count": null,
   "id": "974b0e5b",
   "metadata": {},
   "outputs": [],
   "source": [
    "ggplot(input2[grep(\"Final Energy\\\\|Transportation\\\\|[^|]+$\", input2$Variable),], aes(year, value, fill=Variable)) + geom_col()"
   ]
  },
  {
   "cell_type": "markdown",
   "id": "33678b94",
   "metadata": {},
   "source": [
    "# A common baseline"
   ]
  },
  {
   "cell_type": "markdown",
   "id": "78cc793a",
   "metadata": {},
   "source": [
    "Let's get a common version of our final model from Lab 3, modified to use this new data."
   ]
  },
  {
   "cell_type": "code",
   "execution_count": null,
   "id": "b651fe89",
   "metadata": {},
   "outputs": [],
   "source": [
    "## Parameters\n",
    "RR = 3.8 # Forcing at 2x CO2\n",
    "C0 = 280 # Pre-industrial CO2\n",
    "c = 0.098 # reaction rate of atmosphere\n",
    "ECS = 3 # Equilibrium climate sensitivity\n",
    "alpha = 1.0038 # Damage function scale\n",
    "c.1960 = 3585.427 # GDP p.c. in 1960\n",
    "c.2020 = 10542.301 # GDP p.c. in 2020\n",
    "eta = 1.45 # Elasticity of marginal consumption\n",
    "\n",
    "## Load the CO2 concentrations\n",
    "co2 = read.csv(\"...\")\n",
    "## Select the SSP2-4.5 scenario for concentrations after 1960\n",
    "co2.ssp245 = subset(co2, scenario == 'ssp245' & year > 1960)\n",
    "\n",
    "## Set up the initial values: T_1960 = 0.2 C.\n",
    "df = data.frame(year=1960, T=0.2, D=NA, cbar=NA, u=NA)\n",
    "## Loop over all years from 1960 to 2300\n",
    "for (tt in 1961:2300) {\n",
    "  ## Retrieve the CO2 concentration in year tt\n",
    "  C1 = co2.ssp245$value[co2.ssp245$year == tt]\n",
    "  ## Calculate the radiative foring\n",
    "  F = (RR / log(2)) * log(C1 / C0)\n",
    "  ## Update the warming level, using the last row of df for the previous year\n",
    "  T = df$T[nrow(df)] + c * (F - (RR / ECS) * df$T[nrow(df)])\n",
    "  ## Compute the damages\n",
    "  D = alpha * T^2\n",
    "  ## Compute social welfare\n",
    "  cbar = (c.2020 - c.1960) * (tt - 1960) / (2020 - 1960) + c.1960\n",
    "  cc = cbar * (1 - D / 100)\n",
    "  uu = (cc^(1 - eta)) / (1 - eta)\n",
    "  ## Add on the results for the new year to df\n",
    "  df = rbind(df, data.frame(year=tt, T=T, D=D, cbar, u=uu))\n",
    "}"
   ]
  },
  {
   "cell_type": "markdown",
   "id": "e3b6fd05",
   "metadata": {},
   "source": [
    " - Find the CO2 concentration variable in our baseline dataset.\n",
    " - Incorporate that into the loop.\n",
    " - What does the resulting temperature look like?"
   ]
  },
  {
   "cell_type": "markdown",
   "id": "b44cbb81",
   "metadata": {},
   "source": [
    "# Kaya identity emissions"
   ]
  },
  {
   "cell_type": "markdown",
   "id": "c6a32de7",
   "metadata": {},
   "source": [
    "We are going to use our simplified model of emissions, the Kaya identity."
   ]
  },
  {
   "cell_type": "markdown",
   "id": "522d4460",
   "metadata": {},
   "source": [
    " - Collect the Population, GDP, Primary Energy, and CO2 Emissions variables\n",
    " - Construct energy intensity and emissions intensity\n",
    " - Show that we can recover total CO2 emissions from Kaya product"
   ]
  },
  {
   "cell_type": "markdown",
   "id": "ebed2a34",
   "metadata": {},
   "source": [
    "Simplify this to carbon-intensity of GDP (rather than of energy)."
   ]
  },
  {
   "cell_type": "markdown",
   "id": "03c9662d",
   "metadata": {},
   "source": [
    " - Instead, construct emissions intensity of GDP\n",
    " - Show that this gives us the same result"
   ]
  },
  {
   "cell_type": "markdown",
   "id": "dc91b2fd",
   "metadata": {},
   "source": [
    "We need annual values. Let's interpolate!"
   ]
  },
  {
   "cell_type": "code",
   "execution_count": null,
   "id": "b17d1e84",
   "metadata": {},
   "outputs": [],
   "source": [
    "future = data.frame(year=2010:2100, pop=approx(emits$year, pop$value, 2010:2100)$y,\n",
    "                    gdppc=approx(gdp$year, gdp$gdppc, 2010:2100)$y,\n",
    "                    cigdp=approx(emits$year, emits$cigdp, 2010:2100)$y)"
   ]
  },
  {
   "cell_type": "markdown",
   "id": "99f1b7f8",
   "metadata": {},
   "source": [
    "We can use a simple OLS model to find the conversion from emissions to ppm.\n",
    "\n",
    "$$ppm_t = \\alpha + \\beta \\sum_{s \\le t} emit_t + \\epsilon_t$$"
   ]
  },
  {
   "cell_type": "code",
   "execution_count": null,
   "id": "5153a40c",
   "metadata": {},
   "outputs": [],
   "source": [
    "yy = co2$value[co2$year >= 2010 & co2$year <= 2100]\n",
    "xx = cumsum(future$pop * future$gdppc * future$cigdp)"
   ]
  },
  {
   "cell_type": "code",
   "execution_count": null,
   "id": "736f5bbc",
   "metadata": {},
   "outputs": [],
   "source": [
    "plot(xx, yy)"
   ]
  },
  {
   "cell_type": "code",
   "execution_count": null,
   "id": "2cabf66c",
   "metadata": {},
   "outputs": [],
   "source": [
    "summary(lm(yy ~ xx))"
   ]
  },
  {
   "cell_type": "markdown",
   "id": "4f67b9b6",
   "metadata": {},
   "source": [
    " - Incorporate this into the code\n",
    " - What does the temperature trajectory look like now?\n",
    " - What happens if I stop emissions today?"
   ]
  },
  {
   "cell_type": "markdown",
   "id": "50556319",
   "metadata": {},
   "source": [
    "# Mitigation costs\n",
    "\n",
    "We need an estimate of global mitigation costs. For this, we will use our second file. Download it from here:\n",
    "https://www.dropbox.com/scl/fi/xxdltbl9diuqa0hylgy6d/allmodels3-long.csv?rlkey=wt5o39nl2pzw4v0pb9kn6cc06&dl=0"
   ]
  },
  {
   "cell_type": "code",
   "execution_count": null,
   "id": "ea0aa9e8",
   "metadata": {},
   "outputs": [],
   "source": [
    "mitdf = read.csv(\"~/Dropbox/Climate Change Economics 2024/labs/lab5 - integrated assessment/allmodels3-long.csv\")"
   ]
  },
  {
   "cell_type": "markdown",
   "id": "6357ad29",
   "metadata": {},
   "source": [
    "Let's use regression to infer how carbon price reduces emissions and also reduces consumption.\n",
    "\n",
    "We assume that every model and scenario has a different underlying growth rate of emissions and consumption."
   ]
  },
  {
   "cell_type": "code",
   "execution_count": null,
   "id": "0f946458",
   "metadata": {},
   "outputs": [],
   "source": [
    "# Construct a name for each baseline\n",
    "mitdf$run = paste(mitdf$Model, mitdf$Scenario)"
   ]
  },
  {
   "cell_type": "code",
   "execution_count": null,
   "id": "b87a5291",
   "metadata": {
    "scrolled": false
   },
   "outputs": [],
   "source": [
    "summary(lm(log(Consumption) ~ factor(Year) + run + log(Price.Carbon), data=subset(mitdf, Price.Carbon > 0)))"
   ]
  },
  {
   "cell_type": "code",
   "execution_count": null,
   "id": "24f1fbdc",
   "metadata": {},
   "outputs": [],
   "source": [
    "logp2logcons = ???"
   ]
  },
  {
   "cell_type": "code",
   "execution_count": null,
   "id": "0bc246f7",
   "metadata": {},
   "outputs": [],
   "source": [
    "summary(lm(log(Emissions.CO2) ~ factor(Year) + run + log(Consumption) + Price.Carbon, data=mitdf))"
   ]
  },
  {
   "cell_type": "code",
   "execution_count": null,
   "id": "e999d66c",
   "metadata": {},
   "outputs": [],
   "source": [
    "p2logemit = ???"
   ]
  },
  {
   "cell_type": "markdown",
   "id": "43e47d4d",
   "metadata": {},
   "source": [
    " - Define a reduction path as a linear growth of carbon price."
   ]
  },
  {
   "cell_type": "code",
   "execution_count": null,
   "id": "d3381b2a",
   "metadata": {},
   "outputs": [],
   "source": [
    "policy = data.frame(tt=2010:2100)\n",
    "policy$price = ???"
   ]
  },
  {
   "cell_type": "code",
   "execution_count": null,
   "id": "5233acb1",
   "metadata": {},
   "outputs": [],
   "source": [
    "plot(policy$tt, policy$price)"
   ]
  },
  {
   "cell_type": "code",
   "execution_count": null,
   "id": "2251d532",
   "metadata": {},
   "outputs": [],
   "source": [
    "policy$emitred = exp(p2logemit * policy$price)\n",
    "policy$consloss = exp(logp2logcons * log(policy$price))"
   ]
  },
  {
   "cell_type": "markdown",
   "id": "661c7e19",
   "metadata": {},
   "source": [
    " - Multiply Kaya identity values by emissions reduction."
   ]
  },
  {
   "cell_type": "markdown",
   "id": "1b449646",
   "metadata": {},
   "source": [
    "Now add on abatement costs.\n",
    "\n",
    " - Calculate consumption reduction\n",
    " - Calculate total consumption as baseline * (1 - damage) * consuption reduction"
   ]
  },
  {
   "cell_type": "markdown",
   "id": "be5b3bf8",
   "metadata": {},
   "source": [
    "Now we want to optimize this, as a function of the rate of carbon price increase."
   ]
  },
  {
   "cell_type": "code",
   "execution_count": null,
   "id": "020ff703",
   "metadata": {},
   "outputs": [],
   "source": [
    "simulate = function(rate) {\n",
    "    [Your whole loop.]\n",
    "    \n",
    "    df\n",
    "}"
   ]
  },
  {
   "cell_type": "code",
   "execution_count": null,
   "id": "06931c4d",
   "metadata": {},
   "outputs": [],
   "source": [
    "df = simulate(1)"
   ]
  },
  {
   "cell_type": "code",
   "execution_count": null,
   "id": "6ca9d03d",
   "metadata": {},
   "outputs": [],
   "source": [
    "plot(df$year, df$consleft)"
   ]
  },
  {
   "cell_type": "code",
   "execution_count": null,
   "id": "9802092b",
   "metadata": {},
   "outputs": [],
   "source": [
    "df1 = simulate(1)\n",
    "df2 = simulate(10)"
   ]
  },
  {
   "cell_type": "code",
   "execution_count": null,
   "id": "1cfdf87a",
   "metadata": {
    "scrolled": true
   },
   "outputs": [],
   "source": [
    "plot(df1$year, df1$u)\n",
    "lines(df2$year, df2$u)"
   ]
  },
  {
   "cell_type": "code",
   "execution_count": null,
   "id": "e5269ca8",
   "metadata": {},
   "outputs": [],
   "source": [
    "plot(df1$year, df1$D + 100 * (1 - df1$consleft))\n",
    "lines(df2$year, df2$D + 100 * (1 - df2$consleft))"
   ]
  },
  {
   "cell_type": "markdown",
   "id": "111b8582",
   "metadata": {},
   "source": [
    "Now let's construct the net present value of utility."
   ]
  },
  {
   "cell_type": "code",
   "execution_count": null,
   "id": "dd11627a",
   "metadata": {},
   "outputs": [],
   "source": [
    "rho = 1.5 / 100\n",
    "year0 = 2020\n",
    "\n",
    "npv = function(rate) {\n",
    "    df = simulate(rate)\n",
    "    \n",
    "    ???\n",
    "}"
   ]
  },
  {
   "cell_type": "code",
   "execution_count": null,
   "id": "2fbfb620",
   "metadata": {
    "scrolled": false
   },
   "outputs": [],
   "source": [
    "plot(1:100, sapply(1:100, npv))"
   ]
  },
  {
   "cell_type": "code",
   "execution_count": null,
   "id": "f219fe30",
   "metadata": {},
   "outputs": [],
   "source": [
    "optimize(npv, c(0, 50), maximum=TRUE)"
   ]
  },
  {
   "cell_type": "code",
   "execution_count": null,
   "id": "382521c8",
   "metadata": {},
   "outputs": [],
   "source": [
    "df = simulate(???)"
   ]
  },
  {
   "cell_type": "code",
   "execution_count": null,
   "id": "3e6519b7",
   "metadata": {},
   "outputs": [],
   "source": [
    "plot(df$year, df$T)"
   ]
  },
  {
   "cell_type": "code",
   "execution_count": null,
   "id": "7239bc81",
   "metadata": {},
   "outputs": [],
   "source": [
    "plot(df$year, df$consleft)"
   ]
  },
  {
   "cell_type": "code",
   "execution_count": null,
   "id": "595a3215",
   "metadata": {},
   "outputs": [],
   "source": [
    "plot(df$year, df$D)"
   ]
  }
 ],
 "metadata": {
  "kernelspec": {
   "display_name": "R",
   "language": "R",
   "name": "ir"
  },
  "language_info": {
   "codemirror_mode": "r",
   "file_extension": ".r",
   "mimetype": "text/x-r-source",
   "name": "R",
   "pygments_lexer": "r",
   "version": "4.4.2"
  }
 },
 "nbformat": 4,
 "nbformat_minor": 5
}
